{
 "cells": [
  {
   "cell_type": "markdown",
   "metadata": {},
   "source": [
    "# The Battle of Neighborhoods (Week 1)\n",
    "\n",
    "# Finding a Better Place in Washington DC to open Ethiopian clutural resturant.\n",
    "\n",
    "## Introduction\n",
    "### Background\n",
    "As per the information from Ethiopian Embassy in united state there are more than 200,000 Ethiopian immigrant are living in Washington DC. Compared to other states of U.S majority of the Ethiopian immigrant are living in Washington DC.\n",
    "This project aims to estimate the best localization to open such a Ethiopian Cultural restaurant in the city of Washington DC.\n",
    "Prior to starting any restaurant, it’s very crucial to know the convenient location where to launch the restaurant. In order to do so, this project will try to gather data about existing Ethiopian restaurant localization in Washington city neighborhood.\n",
    "\n",
    "### Problem \n",
    "As the goal is to find the best place to open Ethiopian restaurant, we need to make sure that the place should be a locality for Ethiopian. We also need to check that customer could be interested in this specific business. In order to do so, a survey in Washington neighborhood will be done in addition to data gathering. What kinds of restaurant works well? This survey will allow to validate the data analysis done here.\n",
    "\n",
    "## Data \n",
    "Based on definition of our problem, factors that will influence our decision are:\n",
    "• Finding the best place where Ethiopian restaurant are mostly found.\n",
    "• finding the most common venues\n",
    "• choosing the right neighborhood within the borough\n",
    "We will be using the geographical coordinates of Washington DC to plot neighborhoods in a borough that is most popular by Ethiopian immigrant, and finally cluster our neighborhoods and present our findings.\n"
   ]
  }
 ],
 "metadata": {
  "kernelspec": {
   "display_name": "Python",
   "language": "python",
   "name": "conda-env-python-py"
  },
  "language_info": {
   "codemirror_mode": {
    "name": "ipython",
    "version": 3
   },
   "file_extension": ".py",
   "mimetype": "text/x-python",
   "name": "python",
   "nbconvert_exporter": "python",
   "pygments_lexer": "ipython3",
   "version": "3.6.12"
  }
 },
 "nbformat": 4,
 "nbformat_minor": 4
}
